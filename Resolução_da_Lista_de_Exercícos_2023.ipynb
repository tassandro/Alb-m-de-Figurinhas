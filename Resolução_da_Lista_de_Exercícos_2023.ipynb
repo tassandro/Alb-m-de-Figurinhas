{
  "cells": [
    {
      "cell_type": "markdown",
      "metadata": {
        "id": "view-in-github",
        "colab_type": "text"
      },
      "source": [
        "<a href=\"https://colab.research.google.com/github/tassandro/Alb-m-de-Figurinhas/blob/main/Resolu%C3%A7%C3%A3o_da_Lista_de_Exerc%C3%ADcos_2023.ipynb\" target=\"_parent\"><img src=\"https://colab.research.google.com/assets/colab-badge.svg\" alt=\"Open In Colab\"/></a>"
      ]
    },
    {
      "cell_type": "markdown",
      "metadata": {
        "id": "R8a31smHyutW"
      },
      "source": [
        "Equipe: nomes completo"
      ]
    },
    {
      "cell_type": "markdown",
      "metadata": {
        "id": "G89_4tDFLNeO"
      },
      "source": [
        "# Zeros de Funções Não-Lineares"
      ]
    },
    {
      "cell_type": "markdown",
      "metadata": {
        "id": "8up8gP5GLU_b"
      },
      "source": [
        "## Problema 1"
      ]
    },
    {
      "cell_type": "markdown",
      "metadata": {
        "id": "OGfn2nWzLfAR"
      },
      "source": [
        "Água está escoando em um canal trapezoidal a uma vazão de\n",
        "$Q = 20 m^3/s$. A profundidade crítica y para tal canal deve satisfazer\n",
        "a equação\n",
        "$$ 0 = 1 - \\dfrac{Q^2}{gA_c^3}B$$\n",
        "onde $g = 9,81 m/s^2$, $A_c$ é a área da seção transversal $(m^2)$, e $B$ é a\n",
        "largura do canal na superfície (m). Para esse caso, a largura e a área\n",
        "transversal podem ser relacionadas à profundidade y por\n",
        "$$B = 3 + y\\;\\;\\;\\;\\\n",
        "e\\;\\;\\;\\;\\;\\\n",
        "A_c = 3y + \\frac{y^2}{2}$$\n",
        "\n",
        "\n",
        "Encontre a profundidade crítica usando\n",
        "\n",
        "(a) o método gráfico,\n",
        "\n",
        "(b) a bissecção e\n",
        "\n",
        "(c) a falsa posição.\n",
        "\n",
        "Para (b) e (c), use aproximações ini-\n",
        "ciais de $x_l = 0,5$ e $x_u = 2,5$, e itere até que o erro aproximado\n",
        "fique abaixo de 1% ou que o número de iterações ultrapasse 10.\n",
        "Discuta seus resultados.\n"
      ]
    },
    {
      "cell_type": "code",
      "execution_count": null,
      "metadata": {
        "colab": {
          "base_uri": "https://localhost:8080/",
          "height": 590
        },
        "id": "hxJUXJ2X7Xvs",
        "outputId": "7b7bb1ef-7b12-4c8b-994a-402ac1ce50b5"
      },
      "outputs": [
        {
          "name": "stderr",
          "output_type": "stream",
          "text": [
            "WARNING:matplotlib.legend:No artists with labels found to put in legend.  Note that artists whose label start with an underscore are ignored when legend() is called with no argument.\n"
          ]
        },
        {
          "data": {
            "image/png": "[encoded data removed]",
            "text/plain": [
              "<Figure size 640x480 with 1 Axes>"
            ]
          },
          "metadata": {},
          "output_type": "display_data"
        },
        {
          "name": "stdout",
          "output_type": "stream",
          "text": [
            "Resultado x: 1.5078125\n",
            "Erro: 0.0051813471502590676\n",
            "História de x: [1.5, 2.0, 1.75, 1.625, 1.5625, 1.53125, 1.515625, 1.5078125, 0, 0]\n",
            "Resultado x: 2.0907660676945174\n",
            "Erro: 0.015913583072297365\n",
            "História de x: [2.450831476880765, 2.4036291706036788, 2.358341918973515, 2.314919172687897, 2.2733109174519908, 2.233467604885876, 2.1953400929148894, 2.158879596220967, 2.1240376471975146, 2.0907660676945174]\n"
          ]
        }
      ],
      "source": [
        "#solução\n",
        "#método 1\n",
        "import numpy as np\n",
        "import matplotlib.pyplot as plt\n",
        "\n",
        "def g(x):\n",
        "    return 1 - ((20**2)*(3+x))/(9.81*((3*x+(x**2)/2))**3)\n",
        "\n",
        "\n",
        "def plot_graphs():\n",
        "    x = np.linspace(0.5, 2.5, 10000)  # Intervalo de x de 0.01 a 3 com 1000 pontos\n",
        "    y_g = g(x)\n",
        "\n",
        "    plt.plot(x, y_g)\n",
        "\n",
        "    plt.xlabel('x')\n",
        "    plt.ylabel('y')\n",
        "    plt.legend()\n",
        "    plt.grid(True)\n",
        "    plt.show()\n",
        "\n",
        "plot_graphs()\n",
        "\n",
        "#método 2\n",
        "def bisc(f, a, b, TolX=1e-2, MaxIter=10):\n",
        "    xx = [0] * MaxIter\n",
        "    TolFun = np.finfo(float).eps\n",
        "    fa = f(a)\n",
        "    fb = f(b)\n",
        "\n",
        "    if fa * fb > 0:\n",
        "        raise ValueError(\"Devemos ter f(a)f(b) < 0!\")\n",
        "\n",
        "    for k in range(MaxIter):\n",
        "        xx[k] = (a + b) / 2\n",
        "        fx = f(xx[k])\n",
        "        err =np.abs((xx[k]-xx[k-1])/(xx[k]))\n",
        "\n",
        "        if abs(fx) < TolFun or abs(err) < TolX:\n",
        "            break\n",
        "        elif fx * fa > 0:\n",
        "            a = xx[k]\n",
        "            fa = fx\n",
        "        else:\n",
        "            b = xx[k]\n",
        "\n",
        "    x = xx[k]\n",
        "\n",
        "    if k == MaxIter:\n",
        "        print(f\"O melhor resultado em {MaxIter} iterações\")\n",
        "\n",
        "    return x, err, xx\n",
        "\n",
        "def f(x):\n",
        "    return 1 - ((20**2)*(3+x))/(9.81*((3*x+(x**2)/2))**3)\n",
        "\n",
        "a = 0.5\n",
        "b = 2.5\n",
        "TolX = 1e-2\n",
        "MaxIter = 10\n",
        "\n",
        "x, err, xx = bisc(f, a, b, TolX, MaxIter)\n",
        "print(\"Resultado x:\", x)\n",
        "print(\"Erro:\", err)\n",
        "print(\"História de x:\", xx)\n",
        "\n",
        "\n",
        "#método 3\n",
        "\n",
        "def falsp(f, a, b, TolX=1e-2, MaxIter=10):\n",
        "    xx = [0] * MaxIter\n",
        "    TolFun = np.finfo(float).eps\n",
        "    fa = f(a)\n",
        "    fb = f(b)\n",
        "\n",
        "    if fa * fb > 0:\n",
        "        raise ValueError(\"Devemos ter f(a)f(b) < 0!\")\n",
        "\n",
        "    for k in range(MaxIter):\n",
        "        xx[k] = (a * fb - b * fa) / (fb - fa)\n",
        "        fx = f(xx[k])\n",
        "        err =np.abs((xx[k]-xx[k-1])/(xx[k]))\n",
        "\n",
        "        if abs(fx) < TolFun or err < TolX:\n",
        "            break\n",
        "        elif fx * fa > 0:\n",
        "            a = xx[k]\n",
        "            fa = fx\n",
        "        else:\n",
        "            b = xx[k]\n",
        "            fb = fx\n",
        "\n",
        "    x = xx[k]\n",
        "\n",
        "    if k == MaxIter:\n",
        "        print(f\"O melhor resultado em {MaxIter} iterações\")\n",
        "\n",
        "    return x, err, xx\n",
        "\n",
        "def f(x):\n",
        "     return 1 - ((20**2)*(3+x))/(9.81*((3*x+(x**2)/2))**3)\n",
        "\n",
        "a = 0.5\n",
        "b = 2.5\n",
        "TolX = 1e-2\n",
        "MaxIter = 10\n",
        "\n",
        "x, err, xx = falsp(f, a, b, TolX, MaxIter)\n",
        "print(\"Resultado x:\", x)\n",
        "print(\"Erro:\", err)\n",
        "print(\"História de x:\", xx)"
      ]
    },
    {
      "cell_type": "markdown",
      "metadata": {
        "id": "HaBUpCzKnBGb"
      },
      "source": []
    },
    {
      "cell_type": "markdown",
      "metadata": {
        "id": "9thxaXMYNBsD"
      },
      "source": [
        "## Problema 2"
      ]
    },
    {
      "cell_type": "markdown",
      "metadata": {
        "id": "b4YXfOb_QdaP"
      },
      "source": [
        " Determine a maior raiz real de\n",
        "\n",
        "$$f (x) = 2x^3 − 11,7x^2 + 17,7x − 5$$\n",
        "\n",
        "(a) Graficamente.\n",
        "\n",
        "(b) Pelo método da iteração de ponto fixo (três iterações, $x_0 = 3$).\n",
        "Observação: certifique-se de desenvolver uma solução que\n",
        "convirja para a raiz.\n",
        "\n",
        "(c) Pelo método de Newton-Raphson (três iterações, $x_0 = 3$).\n",
        "\n",
        "(d) Pelo método da secante (três iterações, $x_1 = 3$, $x_0 = 4$).\n",
        "\n",
        "Calcule os erros relativos percentuais aproximados para suas\n",
        "soluções."
      ]
    },
    {
      "cell_type": "code",
      "execution_count": null,
      "metadata": {
        "colab": {
          "base_uri": "https://localhost:8080/",
          "height": 628
        },
        "id": "9abc7UV5y7Lj",
        "outputId": "f57b6e1a-5604-49c4-f750-ce0fc3c59645"
      },
      "outputs": [
        {
          "data": {
            "image/png": "[encoded data removed]",
            "text/plain": [
              "<Figure size 640x480 with 1 Axes>"
            ]
          },
          "metadata": {},
          "output_type": "display_data"
        },
        {
          "name": "stdout",
          "output_type": "stream",
          "text": [
            "Não confie em mim, embora o melhor resultado seja em 3 iterações\n",
            "Resultado x: 3.442543246990202\n",
            "Último erro: 0.03256910871746495\n",
            "Histórico de x: [3, 3.1807909604519775, 3.3339591683757823, 3.442543246990202]\n",
            "Resultado x: 3.7929344806432264\n",
            "Resultado f(x): 2.947603115432983\n",
            "Erro de x: 0.16823050846754864\n",
            "Raiz aproximada: 3.4812727094176554\n",
            "Erro relativo: 0.046517562953773746\n"
          ]
        }
      ],
      "source": [
        "#solução\n",
        "#método 1\n",
        "import numpy as np\n",
        "import matplotlib.pyplot as plt\n",
        "\n",
        "def g(x):\n",
        "    return 2*x**3-11.7*x**2+17.7*x-5\n",
        "\n",
        "def plot_graphs():\n",
        "    x = np.linspace(0, 4, 100)  # Intervalo de x de 0.01 a 3 com 1000 pontos\n",
        "    y_g = g(x)\n",
        "\n",
        "    plt.plot(x, y_g, label='$y(x) = 2x^3-11,7x^2+17,7x-5')\n",
        "\n",
        "    plt.xlabel('x')\n",
        "    plt.ylabel('y')\n",
        "    plt.legend()\n",
        "    plt.grid(True)\n",
        "    plt.title('Gráficos de y(x) no domínio (0.5, 2.5)')\n",
        "    plt.show()\n",
        "\n",
        "plot_graphs()\n",
        "\n",
        "#método 2\n",
        "def fixpt(g, x0, TolX=1e-6, MaxIter=3):\n",
        "    \"\"\"\n",
        "    Resolve x = g(x) começando de x0 por iteração de ponto fixo.\n",
        "\n",
        "    :param g: Função g(x).\n",
        "    :param x0: Palpite inicial.\n",
        "    :param TolX: Limite superior da diferença incremental |x(n + 1) - x(n)|.\n",
        "    :param MaxIter: Número máximo de iterações.\n",
        "    :return: x = ponto alcançado pelo algoritmo,\n",
        "             err = último valor |x(k) - x(k - 1)| alcançado,\n",
        "             xx = histórico de x.\n",
        "    \"\"\"\n",
        "\n",
        "    xx = [x0]\n",
        "    for k in range(1, MaxIter + 1):\n",
        "        xx.append(g(xx[k - 1]))\n",
        "        err = abs((xx[k] - xx[k - 1])/(xx[k-1]))\n",
        "        if err < TolX:\n",
        "            break\n",
        "\n",
        "    x = xx[-1]\n",
        "\n",
        "    if k == MaxIter:\n",
        "        print(f\"Não confie em mim, embora o melhor resultado seja em {MaxIter} iterações\")\n",
        "\n",
        "    return x, err, xx\n",
        "\n",
        "# Exemplo de uso:\n",
        "def g(x):\n",
        "    return (5-2*x**3+11.7*x**2)/17.7\n",
        "\n",
        "x0 = 3\n",
        "TolX = 1e-6\n",
        "MaxIter = 3\n",
        "\n",
        "x, err, xx = fixpt(g, x0, TolX, MaxIter)\n",
        "print(f\"Resultado x: {x}\")\n",
        "print(f\"Último erro: {err}\")\n",
        "print(f\"Histórico de x: {xx}\")\n",
        "\n",
        "#método 3\n",
        "import numpy as np\n",
        "\n",
        "def newton(f, df, x0, TolX, MaxIter):\n",
        "    h = 1e-4\n",
        "    h2 = 2 * h\n",
        "    TolFun = np.finfo(float).eps\n",
        "    xx = [x0]\n",
        "    fx = f(x0)\n",
        "\n",
        "    for k in range(MaxIter):\n",
        "        if not isinstance(df, (int, float)):\n",
        "            dfdx = df(xx[k])\n",
        "        else:\n",
        "            dfdx = (f(xx[k] + h) - f(xx[k] - h)) / h2\n",
        "\n",
        "        dx = -fx / dfdx\n",
        "        xx.append(xx[k] + dx)\n",
        "        fx = f(xx[k + 1])\n",
        "        err = abs((xx[k] - xx[k - 1])/(xx[k-1]))\n",
        "\n",
        "        if abs(fx) < TolFun or abs(dx) < TolX:\n",
        "            break\n",
        "\n",
        "    x = xx[-1]\n",
        "\n",
        "    if k == MaxIter:\n",
        "        print(f\"The best in {MaxIter} iterations\")\n",
        "\n",
        "    return x, fx, err\n",
        "\n",
        "# Exemplo de uso:\n",
        "def f(x):\n",
        "    return 2*x**3-11.7*x**2+17.7*x-5\n",
        "\n",
        "def df(x):\n",
        "    return 6*x**2-23.4*x+17.7\n",
        "\n",
        "x0 = 3\n",
        "TolX = 1e-6\n",
        "MaxIter = 3\n",
        "\n",
        "x, fx, err = newton(f, df, x0, TolX, MaxIter)\n",
        "\n",
        "print(\"Resultado x:\", x)\n",
        "print(\"Resultado f(x):\", fx)\n",
        "print(\"Erro de x:\", err)\n",
        "\n",
        "#método 4\n",
        "def secant_method(f, x0, x1, TolX=1e-6, MaxIter=100):\n",
        "    xx = [0] * (MaxIter + 1)\n",
        "    xx[0] = x0\n",
        "    xx[1] = x1\n",
        "    TolFun = 1e-12  # Reduzindo a tolerância para evitar problemas numéricos\n",
        "    dx = 0\n",
        "\n",
        "    for k in range(1, MaxIter):\n",
        "        dfdx = (f(xx[k]) - f(xx[k - 1])) / (xx[k] - xx[k - 1])\n",
        "        dx = -f(xx[k]) / dfdx\n",
        "        xx[k + 1] = xx[k] + dx\n",
        "\n",
        "        if abs(f(xx[k + 1])) < TolFun or abs(dx) < TolX:\n",
        "            break\n",
        "\n",
        "    raiz_aproximada = xx[k + 1]\n",
        "\n",
        "\n",
        "    # Cálculo do erro relativo\n",
        "    if abs(xx[k]) < 1e-12:\n",
        "        err = abs((raiz_aproximada - xx[k - 1]) / xx[k - 1])\n",
        "    else:\n",
        "        err = abs((raiz_aproximada - xx[k]) / xx[k])\n",
        "\n",
        "    return raiz_aproximada, err\n",
        "\n",
        "# Exemplo de uso:\n",
        "x0 = 3\n",
        "x1 = 4\n",
        "MaxIter = 3\n",
        "def f(x):\n",
        " return 2*x**3-11.7*x**2+17.7*x-5\n",
        "raiz_aproximada, erro = secant_method(f, x0, x1, MaxIter=MaxIter)\n",
        "print(\"Raiz aproximada:\", raiz_aproximada)\n",
        "print(\"Erro relativo:\", erro)\n"
      ]
    },
    {
      "cell_type": "markdown",
      "metadata": {
        "id": "P5QWJUlRQd_t"
      },
      "source": [
        "## Problema 3"
      ]
    },
    {
      "cell_type": "markdown",
      "metadata": {
        "id": "al-UwYy3Qhig"
      },
      "source": [
        "Você está projetando um tanque esférico para\n",
        "armazenar água para uma pequena vila na Amazônia. O volume de líquido que ele pode armazenar pode ser calculado por\n",
        "$$V =\\pi h^2\\dfrac{\n",
        "[3R − h]}{3}$$\n",
        "onde V é o volume [$m^3$ ], h é a profundidade da água no tanque [m]\n",
        "e R é o raio do tanque [m].\n",
        "\n",
        "Se R = 3 m, até qual profundidade o tanque deve ser enchido para\n",
        "que armazene 30 $m^3$ ? Use três iterações do método de Newton-\n",
        "Raphson para determinar sua resposta. Determine o erro relativo\n",
        "aproximado depois de cada iteração. Observe que uma aproxi-\n",
        "mação inicial R será sempre convergente."
      ]
    },
    {
      "cell_type": "markdown",
      "metadata": {
        "id": "kxbh2rEpTr5A"
      },
      "source": [
        "![tanque.jpeg](data:image/jpeg;base64,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)"
      ]
    },
    {
      "cell_type": "code",
      "execution_count": null,
      "metadata": {
        "colab": {
          "base_uri": "https://localhost:8080/"
        },
        "id": "nVn2_2isJZY-",
        "outputId": "d1f4fefe-1052-440c-b336-6069a6c1691b"
      },
      "outputs": [
        {
          "name": "stdout",
          "output_type": "stream",
          "text": [
            "Resultado x: 2.026905728446993\n",
            "Resultado f(x): 1.1551759548922291e-10\n",
            "Erros relativos por iteração: [0.2232540783842166, 0.008283294283340068, 1.661129284842106e-05]\n"
          ]
        }
      ],
      "source": [
        "from math import pi\n",
        "\n",
        "import numpy as np\n",
        "\n",
        "def newton(f, df, x0, TolX, MaxIter):\n",
        "    h = 1e-4\n",
        "    h2 = 2 * h\n",
        "    TolFun = np.finfo(float).eps\n",
        "    xx = [x0]\n",
        "    fx = f(x0)\n",
        "    err = []\n",
        "\n",
        "    for k in range(MaxIter):\n",
        "        if not isinstance(df, (int, float)):\n",
        "            dfdx = df(xx[k])\n",
        "        else:\n",
        "            dfdx = (f(xx[k] + h) - f(xx[k] - h)) / h2\n",
        "\n",
        "        dx = -fx / dfdx\n",
        "        xx.append(xx[k] + dx)\n",
        "        fx = f(xx[k + 1])\n",
        "\n",
        "        relative_error = abs(dx) / (abs(xx[k + 1]) + 1e-8)  # Avoid division by zero\n",
        "        err.append(relative_error)\n",
        "\n",
        "        if abs(fx) < TolFun or abs(dx) < TolX:\n",
        "            break\n",
        "\n",
        "    x = xx[-1]\n",
        "\n",
        "    if k == MaxIter:\n",
        "        print(f\"The best in {MaxIter} iterations\")\n",
        "\n",
        "    return x, fx, err\n",
        "\n",
        "# Exemplo de uso:\n",
        "def f(x):\n",
        "    return pi*x**2*(9-x)/90 - 1\n",
        "\n",
        "def df(x):\n",
        "    return pi*x/5 - pi*x**2/30\n",
        "\n",
        "x0 = 2.5\n",
        "TolX = 1e-6\n",
        "MaxIter = 3\n",
        "\n",
        "x, fx, err = newton(f, df, x0, TolX, MaxIter)\n",
        "\n",
        "print(\"Resultado x:\", x)\n",
        "print(\"Resultado f(x):\", fx)\n",
        "print(\"Erros relativos por iteração:\", err)\n"
      ]
    },
    {
      "cell_type": "markdown",
      "metadata": {
        "id": "gWZsIaUqQiCj"
      },
      "source": [
        "\n",
        "## Problema 4"
      ]
    },
    {
      "cell_type": "markdown",
      "metadata": {
        "id": "BGoXxK-tQlUD"
      },
      "source": [
        "Os sistemas mecânicos reais podem envolver a deflexão de molas não-lineares. Na Figura, uma massa m é abandonada a uma distância h acima de uma mola não-linear. A força de resistência F da mola é dada por\n",
        "\n",
        "$$F = − (k_1d + k_2d^{3/2})$$\n",
        "\n",
        "\n",
        "A conservação da energia pode ser usada para mostrar que\n",
        "\n",
        "$$0 = \\dfrac{2k_2d^{5/2}}{5} +\\dfrac{1}{2}k_1d^2\n",
        "-mgd -mgh$$\n",
        "\n",
        "Determine $d$ dados os seguintes valores dos parâmetros:\n",
        "$k1 = 50.000\\;g/s^2$, $k_2 = 40 \\;g/(s^2 m^{0,5} )$, $m = 90 g$, $g = 9,81\\; m/s^2$ e\n",
        "$h = 0,45 \\;m$.\n"
      ]
    },
    {
      "cell_type": "markdown",
      "metadata": {
        "id": "T03G9Lof3ZSs"
      },
      "source": [
        "![molas.png](data:image/png;base64,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)"
      ]
    },
    {
      "cell_type": "code",
      "execution_count": null,
      "metadata": {
        "colab": {
          "base_uri": "https://localhost:8080/"
        },
        "id": "ChhxDk9S-8AD",
        "outputId": "22a07af9-f450-409f-9f8b-17e346e75f1e"
      },
      "outputs": [
        {
          "name": "stdout",
          "output_type": "stream",
          "text": [
            "Solução encontrada após 4 iterações\n"
          ]
        },
        {
          "data": {
            "text/plain": [
              "0.1449328482703562"
            ]
          },
          "execution_count": 24,
          "metadata": {},
          "output_type": "execute_result"
        }
      ],
      "source": [
        "k1 = 50\n",
        "k2 = 0.04\n",
        "m = 0.09\n",
        "g = 9.81\n",
        "h = 0.45\n",
        "\n",
        "\n",
        "\n",
        "from sympy import symbols, diff, lambdify\n",
        "x = symbols('x')\n",
        "def NewRaph(f, x0, ϵ=1e-8, Nmax=100):\n",
        "    xn = x0\n",
        "    df = diff(f,x)\n",
        "    for n in range(Nmax):\n",
        "        fxn = lambdify(x, f, 'math')(xn)\n",
        "        if abs(fxn) < ϵ:\n",
        "            print('Solução encontrada após',n,'iterações')\n",
        "            return xn\n",
        "        dfxn = lambdify(x, df, 'math')(xn)\n",
        "        if dfxn == 0:\n",
        "            print('Zero derivative. No solution found.')\n",
        "            return None\n",
        "        xn = xn - fxn/dfxn\n",
        "    print('Exceeded maximum iterations. No solution found.')\n",
        "    return None\n",
        "f = 2*k2*x**(5/2)/5+k1*x**2/2-m*g*x-m*g*h\n",
        "NewRaph(f, x0=0.20)\n",
        "\n"
      ]
    },
    {
      "cell_type": "markdown",
      "metadata": {
        "id": "q0EiTFKLQmD6"
      },
      "source": [
        "## Problema 5"
      ]
    },
    {
      "cell_type": "markdown",
      "metadata": {
        "id": "JpO9CVmyQpLw"
      },
      "source": [
        " Uma carga total $Q$ está uniformemente distribuída ao redor de um condutor circular de raio $a$. Uma carga $q$ está localizada a uma distância $x$ do centro do anel (Figura P8.31). A força exercida na\n",
        "carga pelo anel é dada por\n",
        "\n",
        "$$\n",
        "F = \\dfrac{1}{4 \\pi \\epsilon_0}\\dfrac{qQx}{(x^2 +a^2)^{3/2}}\n",
        "$$\n",
        "\n",
        "onde $\\epsilon_0 = 8,85 × 10^{−12} \\;\\;C^2 /(N m^2)$. Encontre a distância $x$ onde a\n",
        "força é $1,25\\;\\; N$ se $q$ e $Q$ são $2 × 10^{−5} \\;\\;C$ para um anel de raio $0,9\\;\\; m$.\n"
      ]
    },
    {
      "cell_type": "code",
      "execution_count": 55,
      "metadata": {
        "colab": {
          "base_uri": "https://localhost:8080/"
        },
        "id": "7NC7vO7_J041",
        "outputId": "32c06359-4cc9-4edc-d737-b745f7dfc2f2"
      },
      "outputs": [
        {
          "output_type": "stream",
          "name": "stdout",
          "text": [
            "Solução 1: 0.29537212088494014\n",
            "Solução 2: 1.229572963452634\n"
          ]
        }
      ],
      "source": [
        "q = 2*1e-5\n",
        "Q = 2*1e-5\n",
        "from math import pi\n",
        "e0 = 8.85*1e-12\n",
        "\n",
        "from sympy import symbols, diff, lambdify\n",
        "x = symbols('x')\n",
        "def NewRaph(f, x0, ϵ=1e-8, Nmax=100):\n",
        "    xn = x0\n",
        "    df = diff(f,x)\n",
        "    for n in range(Nmax):\n",
        "        fxn = lambdify(x, f, 'math')(xn)\n",
        "        if abs(fxn) < ϵ:\n",
        "            return xn\n",
        "        dfxn = lambdify(x, df, 'math')(xn)\n",
        "        if dfxn == 0:\n",
        "            print('Zero derivative. No solution found.')\n",
        "            return None\n",
        "        xn = xn - fxn/dfxn\n",
        "    print('Exceeded maximum iterations. No solution found.')\n",
        "    return None\n",
        "f = Q*q*x/(4*pi*e0*(x**2+(0.9)**2)**(3/2))-1.25\n",
        "\n",
        "sol1 = NewRaph(f, x0=0.5)\n",
        "sol2 = NewRaph(f, x0=1.5)\n",
        "\n",
        "if sol1 is not None:\n",
        "    print(\"Solução 1:\", sol1)\n",
        "\n",
        "if sol2 is not None:\n",
        "    print(\"Solução 2:\", sol2)\n"
      ]
    },
    {
      "cell_type": "markdown",
      "metadata": {
        "id": "THlt2IA1Qp2r"
      },
      "source": [
        "## Problema 6"
      ]
    },
    {
      "cell_type": "markdown",
      "metadata": {
        "id": "m3osVcLRQuiK"
      },
      "source": [
        "\n",
        "Para o escoamento de fluidos em tubos, o atrito é descrito por um número adimensional, o fator de atrito de Fanning $f$. O fator de\n",
        "atrito de Fanning depende de diversos parâmetros relacionados ao tamanho do tubo e ao fluido, os quais podem todos ser representados por uma outra quantidade adimensional, o número de Reynolds\n",
        "$Re$. Uma fórmula que prevê $f$ dado $Re$ é a equação de von Karman,\n",
        "\n",
        "$$\n",
        "\\dfrac{1}{\\sqrt{f}}= 4 \\log_{10}(Re\\sqrt{f}) -0,4\n",
        "$$\n",
        "\n",
        "Para o escoamento turbulento, os valores típicos do número de Reynolds estão entre 10.000 e 500.000 e os do fator de atrito de Fanning estão entre 0,001 e 0,01. Desenvolva uma função que use a bissecção para determinar $f$ dado um valor fornecido pelo\n",
        "usuário de $Re$ entre 2.500 e 1.000.000. Desenvolva a função para que ela garanta que o erro absoluto no resultado seja $E_{a,d} < 0,000005$.\n",
        "\n"
      ]
    },
    {
      "cell_type": "code",
      "execution_count": 68,
      "metadata": {
        "colab": {
          "base_uri": "https://localhost:8080/"
        },
        "id": "NTFLCcWlM_Ic",
        "outputId": "75f921a9-7d1e-4cb9-d25c-bf08278b5008"
      },
      "outputs": [
        {
          "output_type": "stream",
          "name": "stdout",
          "text": [
            "Digite o valor de Re (deve estar entre 2500 e 1e6): 300000\n",
            "A solução é: 0.0036103515624999996\n"
          ]
        }
      ],
      "source": [
        "from math import log10\n",
        "def bisc(f, a, b, TolX=1e-2, MaxIter=10):\n",
        "    xx = [0] * MaxIter\n",
        "    TolFun = np.finfo(float).eps\n",
        "    fa = f(a)\n",
        "    fb = f(b)\n",
        "\n",
        "    if fa * fb > 0:\n",
        "        raise ValueError(\"Devemos ter f(a)f(b) < 0!\")\n",
        "\n",
        "    for k in range(MaxIter):\n",
        "        xx[k] = (a + b) / 2\n",
        "        fx = f(xx[k])\n",
        "        err =np.abs(xx[k]-xx[k-1])\n",
        "\n",
        "        if abs(fx) < TolFun or abs(err) < TolX:\n",
        "            break\n",
        "        elif fx * fa > 0:\n",
        "            a = xx[k]\n",
        "            fa = fx\n",
        "        else:\n",
        "            b = xx[k]\n",
        "\n",
        "    x = xx[k]\n",
        "\n",
        "\n",
        "    return x\n",
        "\n",
        "a = 1e-3\n",
        "b = 1e-2\n",
        "TolX = 5*1e-6\n",
        "MaxIter = 10\n",
        "\n",
        "\n",
        "def main():\n",
        "    Re = float(input('Digite o valor de Re (deve estar entre 2500 e 1e6): '))\n",
        "    if 2500 <= Re <= 1e6:\n",
        "        def f(x):\n",
        "          return 1/(x**(1/2)) - 4*log10(Re*x**(1/2)) + 0.4\n",
        "        solution = bisc(f, a, b, TolX, MaxIter)\n",
        "        if solution is not None:\n",
        "            print('A solução é:', solution)\n",
        "    else:\n",
        "        print('O valor de Re deve estar entre 2500 e 1e6.')\n",
        "\n",
        "if __name__ == '__main__':\n",
        "    main()\n"
      ]
    },
    {
      "cell_type": "markdown",
      "metadata": {
        "id": "mqrAPSWuZbXN"
      },
      "source": [
        "## Problema 7"
      ]
    },
    {
      "cell_type": "markdown",
      "metadata": {
        "id": "Gio5VAqkZd6X"
      },
      "source": [
        "Na mecânica celeste, a equação de Kepler é importante. Ela é dada por $x = y - \\epsilon \\sin y$, em que $x$ é a anomalia média de um planeta, $y$ sua anomalia excêntrica, e $\\epsilon$ a excentricidade de sua órbita. Tomando $\\epsilon = 0,9$, construa uma tabela de $y$ para 30 valores igualmente espaçados de $x$ no\n",
        "intervalo $[0 , π]$. Use o método de Newton para obter cada valor de $y$."
      ]
    },
    {
      "cell_type": "code",
      "execution_count": null,
      "metadata": {
        "id": "lrN_hq2bcViR"
      },
      "outputs": [],
      "source": [
        "from math import sin\n",
        "e = 0.9\n",
        "\n",
        "from sympy import symbols, diff, lambdify\n",
        "x = symbols('x')\n",
        "def NewRaph(f, x0, ϵ=1e-8, Nmax=100):\n",
        "    xn = x0\n",
        "    df = diff(f,x)\n",
        "    for n in range(Nmax):\n",
        "        fxn = lambdify(x, f, 'math')(xn)\n",
        "        if abs(fxn) < ϵ:\n",
        "            return xn\n",
        "        dfxn = lambdify(x, df, 'math')(xn)\n",
        "        if dfxn == 0:\n",
        "            print('Zero derivative. No solution found.')\n",
        "            return None\n",
        "        xn = xn - fxn/dfxn\n",
        "    print('Exceeded maximum iterations. No solution found.')\n",
        "    return None\n",
        "f ="
      ]
    },
    {
      "cell_type": "markdown",
      "metadata": {
        "id": "7u319S2pb5YB"
      },
      "source": [
        "## Problema 8"
      ]
    },
    {
      "cell_type": "markdown",
      "metadata": {
        "id": "_5zy2hd3b-yQ"
      },
      "source": [
        " Em um edifício, dois corredores que se cruzam com larguras $w_1 = 9\\;\\; pés$ e $w_2 = 7\\;\\;\\; pés$ se encontram em um ângulo $\\alpha = 125^{o}$, como mostrado na figura. Supondo uma situação bidimensional, qual é a escada mais longa que pode atravesar os corredores? Dica: $dl/d \\gamma =0$"
      ]
    },
    {
      "cell_type": "markdown",
      "metadata": {
        "id": "kAYoaVR-dq2x"
      },
      "source": [
        "![escada.png](data:image/png;base64,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)"
      ]
    },
    {
      "cell_type": "markdown",
      "metadata": {
        "id": "-fRdonbWdyzF"
      },
      "source": [
        "## Problema 9"
      ]
    },
    {
      "cell_type": "markdown",
      "metadata": {
        "id": "a_Jfn_Kfd99g"
      },
      "source": [
        "Ache o retângulo de área máxima se os vertices são $(0,0)$, $(x,0)$ ,$(x, \\cos x)$, $(0, \\cos x)$. Assuma que $ 0 \\leq x \\leq \\pi/2 $"
      ]
    },
    {
      "cell_type": "markdown",
      "metadata": {
        "id": "IV647WNDeo2n"
      },
      "source": [
        "## Problema 10"
      ]
    },
    {
      "cell_type": "markdown",
      "metadata": {
        "id": "YLIpRRIuetp8"
      },
      "source": [
        "(Algoritmo de Moler-Morrison) O Algoritmo é uma aproximação de $\\sqrt{x^2 + y^2}$ e é dado por :\n",
        "\n",
        "**Função** $f(x,y)$\n",
        "\n",
        "$f \\longleftarrow max( \\vert x \\vert, \\vert y \\vert )$\n",
        "\n",
        "$a \\longleftarrow min( \\vert x \\vert, \\vert y \\vert )$\n",
        "\n",
        "**for** n=1 **t0** 3 **d0**\n",
        "\n",
        "$b \\longleftarrow (a/f)^2$\n",
        "\n",
        "\n",
        "$c \\longleftarrow b/(4 +b)$\n",
        "\n",
        "$a \\longleftarrow ca$\n",
        "\n",
        "**fim for**\n",
        "\n",
        "**fim função**\n",
        "\n",
        "Teste o algoritmo para casos simples com $(x,y) = (3,4), (-5,12) \\;\\;\\; e \\;\\;\\ (7,24).$ Escreva uma função que use $f(x,y)$ para a aproximação na **norma Euclidiana** do vetor $x=(x_1,x_2, \\cdots, x_n)$."
      ]
    },
    {
      "cell_type": "markdown",
      "metadata": {
        "id": "LyGGqj0s7wIG"
      },
      "source": [
        "# Sistemas Lineares"
      ]
    },
    {
      "cell_type": "markdown",
      "metadata": {
        "id": "vFsioTCO71BE"
      },
      "source": [
        "## Problema 1"
      ]
    },
    {
      "cell_type": "markdown",
      "metadata": {
        "id": "6YCEm-eD8BIU"
      },
      "source": [
        "Considere o sistema\n",
        "$$\\begin{cases}\n",
        "10^{-4}x_1 &+ x_2 &= b_1 \\\\\n",
        "x_1 &+x_2 & = b_2\n",
        "\\end{cases} $$\n",
        "\n",
        "\n",
        "nde $b_1 \\neq 0$ e $b_2 \\neq 0$. Sua solução exata é $x_1 =\\dfrac{- b 1 + b 2}{1 - 10^ {−4}}$, $x_2 =\\dfrac{b 1 - 10^{−4} b 2}{1 - 10^{ −4}}$\n",
        "\n",
        "\n",
        "a. Seja $b_1 = 1$ e $b_2 = 2$. Resolva este sistema usando a eliminação Gaussiana com aritmética de três dígitos (arredondada) e compare com a solução exata $x_1 =1,00010 ...$ e $x_2 = 0,99989 9 ....$\n",
        "\n",
        "b. Repita a parte anterior após trocar a ordem das duas equações.a\n",
        "\n",
        "c. Encontre os valores de $b_1$ e $b_2$ no sistema original de modo que a eliminação gaussiana ingênuanão dá respostas ruins"
      ]
    },
    {
      "cell_type": "markdown",
      "metadata": {
        "id": "2B_u35CYCR0B"
      },
      "source": [
        "## Problema 2"
      ]
    },
    {
      "cell_type": "markdown",
      "metadata": {
        "id": "mg2XVay5Cf5k"
      },
      "source": [
        "Defina uma matriz $\\mathbf{A} (n × n) $ pela equação $a_{i j} = i + j$ . Defina $\\mathbf{b}$ pela equação $b_i = i + 1$. Resolva $Ax = b$ usando os métodos diretos. O que x deve ser?"
      ]
    },
    {
      "cell_type": "markdown",
      "metadata": {
        "id": "VG_2lE3OQjHf"
      },
      "source": [
        "## Problema 3"
      ]
    },
    {
      "cell_type": "markdown",
      "metadata": {
        "id": "3Y_5lZNaQl72"
      },
      "source": [
        "Definir uma  matriz $n\\times n$ para cada elemento sendo  $a_{i j} = -1 + 2 min( i , j )$. Em seguida, obter os elementos do vetor $( b_i )$  em tal forma que a solução do sistema $Ax=b$ seja um vetor $x$, onde todos os elementos de $x_i = 1 $. Resolva o sistema usado método de eliminação de Gauss pana $n=30$."
      ]
    },
    {
      "cell_type": "markdown",
      "metadata": {
        "id": "3SDNsTE2TgOO"
      },
      "source": [
        "##Problema 4"
      ]
    },
    {
      "cell_type": "markdown",
      "metadata": {
        "id": "yV4gC1rrTjnH"
      },
      "source": [
        "Escreva uma função em Python para resolver uma sistema, $Cz =w$, onde os elementos são números complexos utilizando o método de eleiminação de Gauss. Partindo do princípio que $c_{ij} = a_{ij} + b_{ij}i$, pode-se escrever $C = A + Bi$. de maneira análoga, $ z= x + yi$ e $ w= u + vi$, então pode-se construir um sistema em blocos:\n",
        "$$\n",
        "\\begin{bmatrix}\n",
        "A & -B \\\\\n",
        "B & A\n",
        "\\end{bmatrix}\\begin{Bmatrix}\n",
        "x \\\\ y \\end{Bmatrix} = \\begin{Bmatrix} u \\\\ v \\end{Bmatrix}\n",
        "$$\n",
        "Resolva os seguintes sistemas:\n",
        "$$C = \\begin{bmatrix}\n",
        "5+9i &5+5i &-6 -6i& -7-7i \\\\\n",
        "3+3i & 6+10i& -5-5i& -6 -6i \\\\\n",
        "2 + 2i & 3+3i& -1 +3i &-5 -5i \\\\\n",
        "1 +i &2+2i & -3-3i& 4i\n",
        "\\end{bmatrix}\n",
        "$$\n",
        "\n",
        "Para os seguintes $w$\n",
        "\n",
        "$$\n",
        "\\begin{bmatrix}\n",
        "-10 +2i\\\\\n",
        "-5 +i\\\\\n",
        "-5 +i\\\\\n",
        "-5 +i\n",
        " \\end{bmatrix}, \\;\\;\\;\\;\n",
        " \\begin{bmatrix}\n",
        "2+6i\\\\\n",
        "4+12i\\\\\n",
        "2+6i\\\\\n",
        "2+6i\n",
        " \\end{bmatrix}, \\;\\;\\;\\;\n",
        " \\begin{bmatrix}\n",
        "7-3i\\\\\n",
        "7-3i\\\\\n",
        "0\\\\\n",
        "7-3i\n",
        " \\end{bmatrix}, \\;\\;\\;\\;\n",
        " \\begin{bmatrix}\n",
        "-4-8i\\\\\n",
        "-4-8i\\\\\n",
        "-4-8i\\\\\n",
        "0\n",
        " \\end{bmatrix}$$"
      ]
    },
    {
      "cell_type": "markdown",
      "metadata": {
        "id": "pfyorMGKZbiP"
      },
      "source": [
        "## Problema 5"
      ]
    },
    {
      "cell_type": "markdown",
      "metadata": {
        "id": "akOaoqRHlsjW"
      },
      "source": [
        "Considere o sistema:\n",
        "$$\\begin{bmatrix}\n",
        "0.4096 &0.1234 & 0.3678 &0.2943 \\\\\n",
        "0.2246 &0.3872 & 0.4015 & 0.1129 \\\\\n",
        "0.3645 &0.1920 & 0.3781 & 0.0643 \\\\\n",
        "0.1784 &0.4002 & 0.2786 & 0.3927\n",
        "\\end{bmatrix}\\begin{bmatrix} x_1\\\\x_2\\\\x_3 \\\\ x_4 \\end{bmatrix}=\n",
        "\\begin{bmatrix} 0.4043\\\\0.1550\\\\0.4240 \\\\ 0.2557 \\end{bmatrix}$$\n",
        "\n",
        "a.Resolva os istema utilizando Eliminação de Gauss e Eliminação com pivotamento.\n",
        "\n",
        "b. Assumindo que houve um erro de digitação em uns dos elementos da matriz, ao invéis de digitar 0.3645, foi digitado 0.3345. Ao resolver o sistema com esse pequeno erro, foi possíve observar alguma alteração? Por que?"
      ]
    },
    {
      "cell_type": "markdown",
      "metadata": {
        "id": "3HxWwQ56qVhk"
      },
      "source": [
        "## Problema 6"
      ]
    },
    {
      "cell_type": "markdown",
      "metadata": {
        "id": "CvE9HEBaqh2r"
      },
      "source": [
        "Seja a matriz de Hilbert de ordem n , definida por $a_{ij} = (i+j -1)^{-1}$ e vamos definir como sendo os elemntos do vetor $b$ por, $b_i = \\sum_{j=1}^{n} a_{ij}$. Obtenaha as soluções de $Ax=b$, para $1<n<16$."
      ]
    },
    {
      "cell_type": "markdown",
      "metadata": {
        "id": "RZaKh_lusEJ2"
      },
      "source": [
        "## Problema 7"
      ]
    },
    {
      "cell_type": "markdown",
      "metadata": {
        "id": "FiMkB2lYsH__"
      },
      "source": [
        "Definir uma  matriz $n\\times n$ para cada elemento sendo  $a_{i j} = -1 + 2 max( i , j )$. Em seguida, obter os elementos do vetor $( b_i )$  em tal forma que a solução do sistema $Ax=b$ seja um vetor $x$, onde todos os elementos de $x_i = 1 $. Resolva o sistema usado método de eliminação de Gauss pana $n=30$."
      ]
    },
    {
      "cell_type": "markdown",
      "metadata": {
        "id": "mSsZK_OFsR_1"
      },
      "source": [
        "## Problema 8"
      ]
    },
    {
      "cell_type": "markdown",
      "metadata": {
        "id": "0Kdq52yRsi1P"
      },
      "source": [
        "Resolva o sistema $Ax=b$ para $4<n<21$, onde $a_{ij} =(i-j)^{j-1}$ e $b_i = i-1$. Qual o valor exato? Calcule o erro absoluto e relativo da solução numerica para a solução exata."
      ]
    },
    {
      "cell_type": "markdown",
      "metadata": {
        "id": "WW0-pxLStFWC"
      },
      "source": [
        "## Problema 9"
      ]
    },
    {
      "cell_type": "markdown",
      "metadata": {
        "id": "jqIYasMVtoYY"
      },
      "source": [
        "Resolva o sistema $Ax=b$ para $1<n<5$, onde\n",
        "$$a_{ij} =(i+j)^{2}\\;\\;\\; e \\;\\;\\;  b_i = ni(i+n+1) + \\frac{1}{6}n(1+n(2n+3))$$.\n",
        "Qual o valor exato? Calcule o erro absoluto e relativo da solução numerica para a solução exata."
      ]
    },
    {
      "cell_type": "markdown",
      "metadata": {
        "id": "yPDCNYzNu8mx"
      },
      "source": [
        "## Problema 10"
      ]
    },
    {
      "cell_type": "markdown",
      "metadata": {
        "id": "_gX-Oqe-u_q5"
      },
      "source": [
        "Resolva o sistema $Ax=b$ para $1<n<10$, onde\n",
        "$$a_{ij} =(i+j-1)^{7}\\;\\;\\; e \\;\\;\\;  b_i = p(n+i-1) -p(i-1)$$.\n",
        "\n",
        "onde\n",
        "$$p(x)=\\frac{x^2}{24}(2 +x^2(-7 +n^2(14 + n(12+3n))))  $$\n",
        "\n",
        "\n",
        "Explique o que acontece."
      ]
    },
    {
      "cell_type": "markdown",
      "metadata": {
        "id": "E7plOo3uw0LP"
      },
      "source": [
        "## Problema 11"
      ]
    },
    {
      "cell_type": "markdown",
      "metadata": {
        "id": "Dk6w3E-sy2HU"
      },
      "source": [
        "O determinante de uma matriz quadrada pode ser facilmente calculado com a ajuda da decomposição LU.. Escreva uma função det(A) que calcula o determinante de uma matriz n × n.  Verifique numericamente a função det usando as seguintes matrizes de teste com vários\n",
        "valores de n:\n",
        "\n",
        "a. $$a_{ij} = \\vert i-j \\vert \\;\\;\\;\\;\\;\\;\\det(A) = (-1)^{n-1}(n-1)2^{n-2}$$\n",
        "\n",
        "b.\n",
        "$$\n",
        "a_{ij}=\\begin{cases}\n",
        "1 & j\\geqslant i \\\\\n",
        "-j & j<i\n",
        "\\end{cases} \\;\\;\\;\\;\\;\\;\\;\\; det(A)=n!\n",
        "$$\n",
        "\n",
        "\n",
        "c.\n",
        "$$\n",
        "a_{ij} =\\begin{cases}\n",
        "a_{j1} = n^{-1}& j\\geqslant 1 \\\\\n",
        "a_{i-1,j} + a_{i,j-1} &i, j \\geqslant 2\n",
        "\\end{cases} \\;\\;\\;\\;\\;\\;\\;\\; det(A)=n^{-n}\n",
        "$$\n",
        "\n",
        "d. Overflow e underflow poderá occorrer na execurção dessa função det(A). Uma maneira de evitar isso é fazer $\\log \\vert det(A) \\vert$ desta maneira obtendo a soma dos termos $\\log \\vert d_{ii} \\vert$ e usando a função exponencial no final. Realize esse procedimento e repita os itens a,b e c."
      ]
    },
    {
      "cell_type": "markdown",
      "metadata": {
        "id": "1ooXC5f2FbvW"
      },
      "source": [
        "##Problema 12"
      ]
    },
    {
      "cell_type": "markdown",
      "metadata": {
        "id": "pJfAVDrEFw88"
      },
      "source": [
        "Compare a solução dos dois sistema a seguir:\n",
        "\n",
        "$$  \n",
        "\\begin{bmatrix}\n",
        "1&\\frac{1}{2}&\\frac{1}{3}&\\frac{1}{4}&\\frac{1}{5}\\\\\n",
        "\\frac{1}{2}&\\frac{1}{3}&\\frac{1}{4}&\\frac{1}{5}&\\frac{1}{6}\\\\\n",
        "\\frac{1}{3}&\\frac{1}{4}&\\frac{1}{5}&\\frac{1}{6}&\\frac{1}{7}\\\\\n",
        "\\frac{1}{4}&\\frac{1}{5}&\\frac{1}{6}&\\frac{1}{7}&\\frac{1}{8}\\\\\n",
        "\\frac{1}{5}&\\frac{1}{6}&\\frac{1}{7}&\\frac{1}{8}&\\frac{1}{9}\\\\\n",
        "\\end{bmatrix}\\begin{Bmatrix}\n",
        "x_1 \\\\ x_2 \\\\ x_3 \\\\ x_4 \\\\ x_5\n",
        "\\end{Bmatrix} = \\begin{Bmatrix}\n",
        "1\\\\ 0 \\\\ 0 \\\\ 0 \\\\ 0\n",
        "\\end{Bmatrix}\n",
        "$$\n",
        "\n",
        "$$  \n",
        "\\begin{bmatrix}\n",
        "1&0.5&0.333333&0.25&0.2\\\\\n",
        "0.5&0.333333&0.25&0.2&0.166667\\\\\n",
        "0.333333&0.25&0.2&0.166667&0.142857\\\\\n",
        "0.25&0.2&0.166667&0.142857&0.125\\\\\n",
        "0.2&0.166667&0.142857&0.125&0.111111\\\\\n",
        "\\end{bmatrix}\\begin{Bmatrix}\n",
        "x_1 \\\\ x_2 \\\\ x_3 \\\\ x_4 \\\\ x_5\n",
        "\\end{Bmatrix} = \\begin{Bmatrix}\n",
        "1\\\\ 0 \\\\ 0 \\\\ 0 \\\\ 0\n",
        "\\end{Bmatrix}\n",
        "$$\n",
        "\n",
        "a, Para ambos sistemas calcule o norma do verto resíduos, $\\Vert r \\Vert_{2} = \\Vert A\\hat{x} -b \\Vert_{2}$ e  a norma do verto erro absoluto, $\\Vert e \\Vert_{2} = \\Vert \\hat{x} - x \\Vert_{2} $, onde $\\hat{x}$ é a solução numérica e $x=[25,-300,1050,-1400,630]$ a solução exata para o primeiro sistema.\n",
        "\n",
        "b. Repita o item a, mas reescreva o sistema $a_{ij} \\Longleftarrow 7560 a_{ij}  $ e $b_{i} \\Longleftarrow 7560 b_{i}  $"
      ]
    },
    {
      "cell_type": "markdown",
      "metadata": {
        "id": "frbv_AyBN8ox"
      },
      "source": [
        "## Problema 13"
      ]
    },
    {
      "cell_type": "markdown",
      "metadata": {
        "id": "El3Ujbh-OFpQ"
      },
      "source": [
        "Resolva o sistema tridiagonal:\n",
        "$$\\begin{cases}\n",
        "x_1 +0.5x_2 &=1.5 \\\\\n",
        "0.5x_{i-1}+x_i +0.5x_{i+1} &=2.0& (2 \\leq i \\leq 99) \\\\\n",
        "0.5x_{99} + x_{100} &= 1.5\n",
        "\\end{cases}\n",
        "$$"
      ]
    },
    {
      "cell_type": "markdown",
      "metadata": {
        "id": "-UilDzj3Q_jL"
      },
      "source": [
        "## Problema 14"
      ]
    },
    {
      "cell_type": "markdown",
      "metadata": {
        "id": "FngIR_EjRHX1"
      },
      "source": [
        "Considere o sistema de equações (n=5)\n",
        "\n",
        "\n",
        "$$\n",
        "\\begin{bmatrix}\n",
        "d_1& & & &  a_5 \\\\\n",
        " &d_2& &a_4& \\\\\n",
        " & & d_3 & & \\\\\n",
        "  &a_2& &d_4& \\\\\n",
        "  a_1& & & &  d_5\n",
        "\\end{bmatrix}\\begin{bmatrix}\n",
        "x_1\\\\x_2 \\\\x_3\\\\x_4 \\\\ x_5 \\end{bmatrix}=\\begin{bmatrix}\n",
        "b_1\\\\b_2 \\\\b_3\\\\b_4 \\\\ b_5 \\end{bmatrix}\n",
        "$$\n",
        "\n",
        "\n",
        "Escreva uma função para resolver esse tipo de sistema e apresente um exemplo para $n=2k+1$"
      ]
    },
    {
      "cell_type": "markdown",
      "metadata": {
        "id": "QEc1x31bTD0o"
      },
      "source": [
        "## Problema 15"
      ]
    },
    {
      "cell_type": "markdown",
      "metadata": {
        "id": "hjUY3wTQTQLG"
      },
      "source": [
        "Seja o sistema para $n=7$.\n",
        "\n",
        "$$\n",
        "\\begin{bmatrix}\n",
        "d_1 & & & & & &  \\\\\n",
        "a_1 & d_2& & & & &  \\\\\n",
        " &a_2 &d_3 & & & &  \\\\\n",
        "  & &a_3 &d_4 &a_4 & &  \\\\\n",
        "  & & & &d_5  &a_5 & \\\\\n",
        " & & & & &d_6 &a_6 \\\\\n",
        "   & & & & & &d_7\\\\\n",
        "\\end{bmatrix}\\begin{bmatrix}\n",
        "x_1\\\\x_2 \\\\x_3\\\\x_4 \\\\ x_5 \\\\x_6 \\\\x_7\\end{bmatrix}=\\begin{bmatrix}\n",
        "b_1\\\\b_2 \\\\b_3\\\\b_4 \\\\ b_5 \\\\b_6 \\\\b_7 \\end{bmatrix}\n",
        "$$\n",
        "\n",
        "Escreva uma função para resolver esse tipo de sistema e apresente um exemplo para $n=2k+1$."
      ]
    },
    {
      "cell_type": "markdown",
      "metadata": {
        "id": "lAniZbGTahZ4"
      },
      "source": [
        "## Problema 16"
      ]
    },
    {
      "cell_type": "markdown",
      "metadata": {
        "id": "pPOlTL4ialTd"
      },
      "source": [
        "Seja o sistema para $n=7$.\n",
        "\n",
        "$$\n",
        "\\begin{bmatrix}\n",
        " & & & & &c_1 & d_1 \\\\\n",
        " & & & & c_2&d_2 & e_1 \\\\\n",
        " & &&c_3 &d_3 &e_2 &  \\\\\n",
        "  & &\\ldots &\\ldots &\\ldots & &  \\\\\n",
        "  & & & \\ldots&\\ldots  & & \\\\\n",
        " c_{n-1}&d_{n-1} &e_{n-2} & & & & \\\\\n",
        "   d_n&e_{n-1} & & & & &\\\\\n",
        "\\end{bmatrix}\\begin{bmatrix}\n",
        "x_1\\\\x_2 \\\\x_3\\\\ \\vdots \\\\ \\vdots \\\\x_{n-1} \\\\x_n\\end{bmatrix}=\\begin{bmatrix}\n",
        "b_1\\\\b_2 \\\\b_3\\\\\\vdots \\\\ \\vdots \\\\b_{n-1} \\\\b_n \\end{bmatrix}\n",
        "$$\n",
        "\n",
        "Escreva uma função para resolver esse tipo de sistema e apresente um exemplo para $n$."
      ]
    },
    {
      "cell_type": "markdown",
      "metadata": {
        "id": "LydwWJI8tHp1"
      },
      "source": [
        "## Problema 17"
      ]
    },
    {
      "cell_type": "markdown",
      "metadata": {
        "id": "vLxs_QJytKCK"
      },
      "source": [
        "A equação filtro para um filtro spline não-períodica é dado por um sistema $n \\times n$\n",
        "\n",
        "$$(I +\\alpha^{4}Q)w = z$$\n",
        "\n",
        "onde a matriz é:\n",
        "\n",
        "$$\n",
        "Q =\\begin{bmatrix}\n",
        "1 & -2 & 1 & 0 & 0& \\cdots & 0& 0&0&0 \\\\\n",
        "-2 & 5 & -4 & 1 & 0 &\\cdots & 0& 0&0&0 \\\\\n",
        "1 & -4 & 6 & -4 &1&\\cdots & 0& 0&0&0 \\\\\n",
        "0 & 1 & -4 & 6 &  -4&\\cdots & 0& 0&0&0 \\\\\n",
        "\\vdots & \\vdots & \\vdots & \\vdots & \\ddots & \\vdots& \\vdots & \\vdots & \\vdots&\\vdots\\\\\n",
        "0 & 0 & 0 & 0  &\\cdots&1& -4&6& -4& -1\\\\\n",
        "0 & 0 & 0 & 0 &\\cdots &0&1 & -4&5& -2\\\\\n",
        "0 & 0 & 0 & 0 &\\cdots &0&0 & a_{n-1}&c_{n-1}& d_{n-1}\n",
        "\\end{bmatrix}\n",
        "$$\n",
        "\n",
        "O parâmetro $-0.5 \\leq \\alpha \\leq 0.5 $. Use o algoritmo para resolver diversos sistemas pentadiagonais usando diversos $\\alpha$ e obtenha os valores de $z$ usando $w=[1,-1,1,-1, \\cdots,1]^T$ com o valor de $n=50$."
      ]
    },
    {
      "cell_type": "markdown",
      "metadata": {
        "id": "nZipIuam0Wsd"
      },
      "source": [
        "## Problema 18"
      ]
    },
    {
      "cell_type": "markdown",
      "metadata": {
        "id": "07w9haTB0cXE"
      },
      "source": [
        "a. Escreva e teste uma função para resolver o sistema $AX = B$ no qual $A$, $X$ e $B$ são matrizes de ordem $n × n$, $n × m$ e $n × m$, respectivamente. Verifique se a função funciona em vários casos de teste, um dos quais tem $B = I$ de forma que a solução $X$ seja a inversa de A.\n",
        "\n",
        "b. Teste a função para calcular a inversa de A de ordem 10:\n",
        "\n",
        "$$ A=\\begin{bmatrix}\n",
        "-2 & 1 & 0 & 0 & \\cdots & 0 \\\\\n",
        "1 & -2 & 1 & 0 & \\cdots & 0 \\\\\n",
        "0 & 1 & -2 & 1 & \\cdots & 0 \\\\\n",
        "0 & 0 & 1 & 2 & \\cdots & 0 \\\\\n",
        "\\vdots & \\vdots & \\vdots & \\vdots & \\ddots & \\vdots \\\\\n",
        "0 & 0 & 0 & 0 & 1 & -2\n",
        "\\end{bmatrix}$$\n",
        "\n",
        "c. Compare o resulta com o valor exato:$$(A^{-1})_{ij} =(A^{-1})_{ji}= \\dfrac{-i(n+1 -j)}{n+1} \\;\\;\\;\\;\\;\\; (i \\leq j)$$"
      ]
    },
    {
      "cell_type": "markdown",
      "metadata": {
        "id": "S0UDUCQj1KgV"
      },
      "source": [
        "\n",
        "## Problema 19"
      ]
    },
    {
      "cell_type": "markdown",
      "metadata": {
        "id": "Mj1opMkFnTb6"
      },
      "source": [
        "Usando os métodos iterativos Jacobi e Gauss-Seidel, resolva o o sistema\n",
        "\n",
        "\n",
        "linear abaixo com 4 casa decimais (arredondamento) e compare o número de iterações que foram utilizados e compare com a solução exata, $x=[1,1,1,1]^T.$\n",
        "\n",
        "$$\n",
        "\\begin{bmatrix}\n",
        "7 &1 &-1 & 2 \\\\\n",
        "1 &8 &0 & -2 \\\\\n",
        "-1 &0 & 4 & -1 \\\\\n",
        "2&-2 &-1 & 6\n",
        "\\end{bmatrix}\\begin{bmatrix}\n",
        "x_1 \\\\ x_2 \\\\ x_3 \\\\ x_4\n",
        "\\end{bmatrix}=\\begin{bmatrix}\n",
        "3 \\\\ -5 \\\\ 4 \\\\ -3\n",
        "\\end{bmatrix}\n",
        "$$\n",
        "\n",
        "\n",
        "\n"
      ]
    },
    {
      "cell_type": "markdown",
      "metadata": {
        "id": "7zS9sFJFudAY"
      },
      "source": [
        "## Problema 20"
      ]
    },
    {
      "cell_type": "markdown",
      "metadata": {
        "id": "Axt0nr68uh5S"
      },
      "source": [
        "( Básico do Métod dos Gradientes Conjugados) Considere um exemplo simples de um sistema linear $Ax=b$, onde\n",
        "\n",
        "$$\n",
        "A= \\begin{bmatrix}\n",
        "3 & 2 \\\\\n",
        "2 & 6\n",
        "\\end{bmatrix} \\;\\;\\;\\; b= \\begin{bmatrix} 2 \\\\ -8 \\end{bmatrix}, \\;\\;\\;\\; c=0\n",
        "$$\n",
        "\n",
        "1. Obtenha a solução gráfica\n",
        "2. Construa o gráfico da função $F(x) =c +b^T x + \\frac{1}{2}x^T A x $ e mostre que o minímo dessa superfície é a solução de $Ax=b$\n",
        "3. Construa as curvas de nível da superfície $F(x)$"
      ]
    },
    {
      "cell_type": "markdown",
      "metadata": {
        "id": "wbwG3YnlyLPH"
      },
      "source": [
        "## Problema 21"
      ]
    },
    {
      "cell_type": "markdown",
      "metadata": {
        "id": "bhRFBCqs0neo"
      },
      "source": [
        "Para combater um vírus que infectou um grupo de indivíduos vai ser administrado\n",
        "um composto químico sintetizado com base em duas substâncias elementares $x_1$ e\n",
        "$x_2$ . Sabe-se que se forem administrados α miligramas de composto a cada indivíduo,\n",
        "a concentração (mg/litro) de cada uma das substâncias elementares na circulação\n",
        "sanguínea é dada implicitamente (para $\\alpha \\in [0, 5]$) pelo sistema de equações:\n",
        "\n",
        "$$\\begin{cases}\n",
        "16x_1 &-&\\cos(\\alpha(x_2 -2x_1)) &= 0\\\\\n",
        "16x_2&+&0.75\\sin(\\alpha(-x_2 - 3x_1)) &=0\\end{cases}$$\n",
        "\n",
        "Para $\\alpha = 1$, determine $x_1$ e $x_2$ usando o método iterativo mais adequado. Use a\n",
        "seguinte aproximação inicial $x^{(0)} = [0.1, 0.01]^T$ e termine o processo iterativo consi\n",
        "derando $tol  = 0.05$ (1 iteração)."
      ]
    },
    {
      "cell_type": "markdown",
      "metadata": {
        "id": "Bpwm-f2y28-i"
      },
      "source": [
        "## Problema 22"
      ]
    },
    {
      "cell_type": "markdown",
      "metadata": {
        "id": "ZKAsLrr83hc-"
      },
      "source": [
        "Uma fábrica de tintas pretende utilizar as sobras de tinta de 4 tipos diferentes de\n",
        "tonalidades de tinta verde para criar uma tonalidade de verde mais popular. Uma\n",
        "unidade de medida (u.m.) da nova tinta será composta por $x_1$ u.m. de tinta tipo 1,\n",
        "$x_2$ u.m. de tinta tipo 2, $x_3$ u.m. de tinta tipo 3 e $x_4$ u.m. de tinta tipo 4. Cada\n",
        "u.m. de tinta nova é composta por 4 pigmentos que estão relacionados pelo seguinte\n",
        "sistema de equações lineares:\n",
        "\n",
        "$$\\begin{cases}\n",
        "80x_1 &+& & &30x_3&+&10x_4&=40 \\\\\n",
        "&  & 80x_2 &+&10x_3&+& 10x_4 &=27\\\\\n",
        "16x_1&+&20x_2&+&60x_3&+&72x_4&=31\\\\\n",
        "4x_1&+& & & &&8x_4&=2\n",
        "\\end{cases}$$\n",
        "\n",
        "Os coeficientes da matriz representam a percentagem de pigmento em cada uma das\n",
        "4 diferentes tonalidades de tinta verde, por exemplo, a tinta com a nova tonalidade\n",
        "deverá conter 31% de pigmento 3, sabendo que a tinta tipo 1 contem 16%, a tinta\n",
        "tipo 2 20%, a tinta tipo 3 60% e a tinta tipo 4 contem 72% do mesmo pigmento.\n",
        "\n",
        "a) Analisando apenas as condições suficientes de convergência, verifique se o método\n",
        "de Gauss-Seidel converge, quando aplicado a este sistema.\n",
        "\n",
        "\n",
        "b) Resolva o sistema de equações usando o método iterativo de Gauss-Seidel, utilizando para aproximação inicial o ponto $[0.5, 0.2, 0.2, 0]^T$ e utilizando para critério de paragem $\\epsilon = 0.25$ ou $k_{ max} = 2$."
      ]
    },
    {
      "cell_type": "markdown",
      "metadata": {
        "id": "xCwYIjSwHXgi"
      },
      "source": [
        "## Problema 23"
      ]
    },
    {
      "cell_type": "markdown",
      "metadata": {
        "id": "WD5cpqCwHaud"
      },
      "source": [
        "Um engenheiro de Produção supervisiona a produção de quatro tipos de computadores. Existem quatro espécies de recursos necessários à produção: mão-de-obra,\n",
        "metais, plásticos e componentes electrónicos. As quantidades destes recursos, neces-\n",
        "sárias para produzir cada computador são:\n",
        "\n",
        " Dados |Mão de obra (h/comp.) | Metais (Kg/comp.) | Plásticos (Kg/comp.) | Componentes (unid./comp.)\n",
        "-------|----------------------|-------------------|----------------------|---------------------------\n",
        "1|3|20|10|10\n",
        "2|4|25|15|8\n",
        "3|7|40|20|10\n",
        "4| 20|50|22|15\n",
        "\n",
        "Considere um consumo diário de 504 h de mão-de-obra, 1970 Kg de metais, 970 Kg de plásticos e\n",
        "601 componentes.\n",
        "a) Use um método directo e estável para calcular o número de computadores (número inteiro) de cada tipo produzidos por dia.\n",
        "\n",
        "b) Use o método iterativo de Gauss-Seidel, tomando como aproximação inicial $x^{(0)} =[9, 10, 12, 10]^T$. Apresente apenas os cálculos relativos às duas primeiras iterações,\n",
        "indicando uma estimativa do erro relativo.\n",
        "\n",
        "c) Comente os resultados obtidos, analisando as condições suficientes de convergência.\n",
        "\n",
        "\n",
        "\n",
        "\n"
      ]
    },
    {
      "cell_type": "markdown",
      "metadata": {
        "id": "w_gjB3dcNgb_"
      },
      "source": [
        "## Problema 24"
      ]
    },
    {
      "cell_type": "markdown",
      "metadata": {
        "id": "YjHciloDN0HQ"
      },
      "source": [
        "Considere o seguinte sistema de equações para determinar as concentrações $c_1$ , $c_2$ e $c_3$ $(g/m^3 )$ numa série de 3 reactores como função da quantidade de massa à entrada\n",
        "de cada reactor (termo independente do sistema em g):\n",
        "\n",
        "$$\\begin{cases}\n",
        "17c_1&-2c_2&-3c_3 &=500\\\\\n",
        "-5c_1&+21c_2&-2c_3 &=200\\\\\n",
        "-5c_1&-5c_2&+22c_3 &=30\n",
        "\\end{cases}\n",
        "$$\n",
        "\n",
        "a) Analise as condições suficientes de convergência do método de Gauss-Seidel quando aplicado ao sistema.\n",
        "\n",
        "b) Aplique o método de Gauss-Seidel ao sistema, considerando como aproximação\n",
        "inicial o ponto $[34, 19, 13]$ e $tol = 0.0025$ ou no máximo 2 iterações."
      ]
    },
    {
      "cell_type": "markdown",
      "metadata": {
        "id": "I6g8QLrLPfqy"
      },
      "source": [
        "## Problema 25"
      ]
    },
    {
      "cell_type": "markdown",
      "metadata": {
        "id": "K0e-GjQmTHHm"
      },
      "source": [
        "Considere os vetores:\n",
        "\n",
        "$$\n",
        "\\overrightarrow{A} = 2\\overrightarrow{i} - 3\\overrightarrow{j} +a\\overrightarrow{k}$$\n",
        "\n",
        "$$\\overrightarrow{B} = b\\overrightarrow{i} + \\overrightarrow{j} -4\\overrightarrow{k}$$\n",
        "\n",
        "$$\\overrightarrow{C} = 3\\overrightarrow{i} + c\\overrightarrow{j} +2\\overrightarrow{k}\n",
        "$$\n",
        "\n",
        "O vetor $\\overrightarrow{A} $ é perpendicular a $\\overrightarrow{B} $ e a $\\overrightarrow{C} $. Sabe-se também que $\\overrightarrow{B} \\cdot \\overrightarrow{C}=2$. Determine $a,b,c$."
      ]
    },
    {
      "cell_type": "markdown",
      "metadata": {
        "id": "Ko7qJbE9U01M"
      },
      "source": [
        "## Problema 26"
      ]
    },
    {
      "cell_type": "markdown",
      "metadata": {
        "id": "mEJHaGXojOb8"
      },
      "source": [
        "Resolva o sistema não-linear abaixo com $tol= 10^{-4}$\n",
        "\n",
        "\n",
        " (Broyden Tridiagonal)\n",
        "$$\n",
        "\\begin{cases}\n",
        "f_1(x) &=(3-2x_1)x_1 -2x_2 +1 &=0 \\\\\n",
        "f_i(x) &=(3-2x_i)x_i - x_{i-1} - 2x_{i+1} +1 &=0\\\\\n",
        "f_{10}&=(3 - 2x_{10})x_{10} -x_9 +1 &=0\n",
        "\\end{cases}, \\;\\;\\;\\;\\;\\; i=2, \\cdots,9\n",
        "$$"
      ]
    },
    {
      "cell_type": "markdown",
      "metadata": {
        "id": "SebtzGle109h"
      },
      "source": [
        "## Problema 27"
      ]
    },
    {
      "cell_type": "markdown",
      "metadata": {
        "id": "Znd8u2sZ2GM7"
      },
      "source": [
        "Resolva o sistema não-linear abaixo com $tol= 10^{-4}$\n",
        "\n",
        "\n",
        " (Broyden Trigexp de Toint)\n",
        "$$\n",
        "\\begin{cases}\n",
        "f_1(x) &=3x_1^3 + 2x_2 -5 +\\sin(x_1 -x_2)\\sin(x_1 +x_2) &=0 \\\\\n",
        "f_i(x) &=-x_{1}e^{(x_{i-1}-x_i)} + x_i(4 +3x_i^2)+ 2x_{i+1} +\\sin(x_i -x_{i+1})\\sin(x_i -x_{i+1}) -8 &=0\\\\\n",
        "f_{10}&=-x_9e^{(x_9 -x_{10})} + 4x_{10} - 3&=0\n",
        "\\end{cases}, \\;\\;\\;\\;\\;\\; i=2, \\cdots,9\n",
        "$$"
      ]
    },
    {
      "cell_type": "markdown",
      "metadata": {
        "id": "g9ftCjbm35MQ"
      },
      "source": [
        "## Problema 28"
      ]
    },
    {
      "cell_type": "markdown",
      "metadata": {
        "id": "dNDrpvaw89Wo"
      },
      "source": [
        "Sejam uma matriz $A$ de ordem $n$, um vetor arbitrário $y^0$ de tamanho n e os vetores $y^k = Ay^{k-1}$, $k=1,2,\\cdots,n$. O método de Krilov consiste em calcularos coeficientes do polinômio característico $P(\\lambda)= \\lambda^n +d_{n-1}\\lambda^{n-1} + \\cdots + d_1 \\lambda + d_0$ pela solução do sistema linear $Kd= -y^n$, sendo $K = [y^{n-1} \\;\\; y^{n-2} \\;\\;\\cdots \\;\\; y^0]$. Se a matriz K for singular, deve-se trocar o vetor arbritário inicial $y^0$.\n",
        "\n",
        "1. Fazer um program em Python do método de Krilov\n",
        "\n",
        "2. Determine o polinômio caracterítico da matriz\n",
        "\n",
        "$$ \\begin{bmatrix}\n",
        "7&14&-2\\\\\n",
        "-3 &-10&2\\\\\n",
        "-12 &-28 & 5\n",
        "\\end{bmatrix}\n",
        "$$"
      ]
    },
    {
      "cell_type": "markdown",
      "metadata": {
        "id": "CcclCPXu_6E6"
      },
      "source": [
        "## Problema 29"
      ]
    },
    {
      "cell_type": "markdown",
      "metadata": {
        "id": "ohihWOI5C0i0"
      },
      "source": [
        "Suponha que um time de três pára-quedistas está ligado por uma corda sem peso enquanto cai, em queda livre, a uma velocidade de 5 m/s (Figura). Calcule a tensão em cada seção da corda e a aceleração do time, dado o seguinte:\n",
        "\n",
        "Páraquedista | Massa,kg | Coeficiente de Arrasto, kg/s\n",
        "-------------|----------|-----------------------------\n",
        "     1       |    70    |         10\n",
        "     2       |    60    |         14\n",
        "     3       |    40     | 17\n"
      ]
    },
    {
      "cell_type": "markdown",
      "metadata": {
        "id": "hazgzLtjFTPg"
      },
      "source": [
        "![paraquedistas.jpeg](data:image/jpeg;base64,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)"
      ]
    },
    {
      "cell_type": "markdown",
      "metadata": {
        "id": "01th4sFZThEA"
      },
      "source": [
        "Sejam $m_1,m_2,m_3$ as massas dos paraquedistas e $c_1,c_2,c_3$ as constantes de arrasto associdadas. Então, de modo que todos os paraquedistas possuam a mesma aceleração:\n",
        "\n",
        "$$\\begin{align*}\n",
        "m_1a&=m_1g-T_T-c_1v\\\\\n",
        "m_2a&=m_2g+T_T-T_R-c_2v\\\\\n",
        "m_3a&=m_3g-T_R-c_3v\n",
        "\\end{align*}\n",
        "$$\n",
        "\n",
        "Temos então o seguinte sistema linear:\n",
        "$$\n",
        "\\begin{bmatrix}\n",
        "1&0&m_1\\\\\n",
        "-1 & 1 & m_2\\\\\n",
        "0 & -1 & m_3\\\\\n",
        "\\end{bmatrix}\n",
        "\\begin{bmatrix}\n",
        "T_T\\\\\n",
        "T_R\\\\\n",
        "a\\\\\n",
        "\\end{bmatrix}=\n",
        "\\begin{bmatrix}\n",
        "m_1g-c_1v\\\\\n",
        "m_2g-c_2v\\\\\n",
        "m_3g-c_3v\\\\\n",
        "\\end{bmatrix}\n",
        "$$\n",
        "\n",
        "Substituindo os valores do enunciado, obtemos:\n",
        "$$\n",
        "\\begin{bmatrix}\n",
        "1&0&70\\\\\n",
        "-1 & 1 & 60\\\\\n",
        "0 & -1 & 40\\\\\n",
        "\\end{bmatrix}\n",
        "\\begin{bmatrix}\n",
        "T_T\\\\\n",
        "T_R\\\\\n",
        "a\\\\\n",
        "\\end{bmatrix}=\n",
        "\\begin{bmatrix}\n",
        "650\\\\\n",
        "530\\\\\n",
        "315\\\\\n",
        "\\end{bmatrix}\n",
        "$$"
      ]
    },
    {
      "cell_type": "markdown",
      "metadata": {
        "id": "7QfOPOqqJ2nq"
      },
      "source": [
        "## Problema 30"
      ]
    },
    {
      "cell_type": "markdown",
      "metadata": {
        "id": "WQN8W9kKGGEZ"
      },
      "source": [
        "Três blocos são ligados por uma corda sem peso e repousam\n",
        "em um plano inclinado (Figura 1). Determine a aceleração a e as tensões T e R nas duas cordas.\n",
        "\n",
        "\n"
      ]
    },
    {
      "cell_type": "markdown",
      "metadata": {
        "id": "iL360KnhIW1J"
      },
      "source": [
        "![plano_inclinado.jpeg](data:image/jpeg;base64,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)"
      ]
    }
  ],
  "metadata": {
    "colab": {
      "collapsed_sections": [
        "oZqzjmLirChK",
        "-fRdonbWdyzF",
        "vFsioTCO71BE",
        "2B_u35CYCR0B",
        "VG_2lE3OQjHf",
        "3SDNsTE2TgOO",
        "pfyorMGKZbiP",
        "3HxWwQ56qVhk",
        "RZaKh_lusEJ2",
        "WW0-pxLStFWC",
        "yPDCNYzNu8mx",
        "E7plOo3uw0LP",
        "1ooXC5f2FbvW",
        "frbv_AyBN8ox",
        "-UilDzj3Q_jL",
        "QEc1x31bTD0o",
        "lAniZbGTahZ4",
        "LydwWJI8tHp1",
        "nZipIuam0Wsd",
        "wbwG3YnlyLPH",
        "xCwYIjSwHXgi",
        "w_gjB3dcNgb_",
        "I6g8QLrLPfqy",
        "7QfOPOqqJ2nq"
      ],
      "provenance": [],
      "toc_visible": true,
      "include_colab_link": true
    },
    "kernelspec": {
      "display_name": "Python 3",
      "name": "python3"
    },
    "language_info": {
      "name": "python"
    }
  },
  "nbformat": 4,
  "nbformat_minor": 0
}